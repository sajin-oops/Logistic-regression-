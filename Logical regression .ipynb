{
 "cells": [
  {
   "cell_type": "code",
   "execution_count": 25,
   "metadata": {
    "collapsed": false
   },
   "outputs": [
    {
     "name": "stdout",
     "output_type": "stream",
     "text": [
      "insurance dataset \n",
      "\n",
      "   age  affordibility  bought_insurance\n",
      "0   22              1                 0\n",
      "1   25              0                 0\n",
      "2   47              1                 1\n",
      "3   52              0                 0\n",
      "4   46              1                 1\n"
     ]
    },
    {
     "data": {
      "image/png": "[encoded data removed]",
      "text/plain": [
       "<matplotlib.figure.Figure at 0x2d3b788f588>"
      ]
     },
     "metadata": {},
     "output_type": "display_data"
    },
    {
     "name": "stdout",
     "output_type": "stream",
     "text": [
      "\n",
      "X test dataset:\n",
      "\n",
      "    age\n",
      "2    47\n",
      "12   27\n",
      "1    25\n",
      "17   58\n",
      "24   50\n",
      "0    22\n",
      "\n",
      "Predict Test Values: [1 0 0 1 1 0]\n",
      "\n",
      "Model Score: 81.8181818182\n",
      "\n",
      "Model Coeficient: [[ 0.04183171]]\n",
      "\n",
      "Interception value: [-1.40751427]\n"
     ]
    }
   ],
   "source": [
    " #logistic regression\n",
    "import pandas as pd\n",
    "from matplotlib import pyplot as plt\n",
    "%matplotlib inline\n",
    "#Exploring dataset\n",
    "# df = pd.read_csv(\"insurance.csv\")\n",
    "df = pd.read_csv(r\"C:\\Users\\DS\\Downloads\\insurance.csv\")\n",
    "# C:\\Users\\DS\\Downloads\\Quiz reg list.xlsx\n",
    "print(\"insurance dataset \\n\")\n",
    "print(df.head())\n",
    "#visualizing dataset \n",
    "plt.scatter(df.age,df.bought_insurance,marker='+',color='red')\n",
    "plt.title(\"age vs. Insurance Bought\")\n",
    "plt.xlabel(\"Age\")\n",
    "plt.ylabel(\"Insurance Bought\")\n",
    "plt.show()\n",
    "\n",
    "#splitting data into train and test\n",
    "from sklearn.model_selection import train_test_split\n",
    "X_train,X_test,y_train,y_test = train_test_split(df[['age']],df.bought_insurance,train_size=0.8)\n",
    "print(\"\\nX test dataset:\\n\")\n",
    "print(X_test)\n",
    "\n",
    "#fitting the logical regression model\n",
    "from sklearn.linear_model import LogisticRegression\n",
    "model = LogisticRegression()\n",
    "model.fit(X_train,y_train)\n",
    "y_pred=model.predict(X_test)\n",
    "print(\"\\nPredict Test Values:\",y_pred)\n",
    "score = model.score(X_train,y_train)\n",
    "print(\"\\nModel Score:\",score*100)\n",
    "#model.coef_indicates value of m in y=m*x + b equation\n",
    "coef = model.coef_\n",
    "print(\"\\nModel Coeficient:\",coef)\n",
    "\n",
    "interception = model.intercept_\n",
    "print(\"\\nInterception value:\",interception)"
   ]
  },
  {
   "cell_type": "code",
   "execution_count": 3,
   "metadata": {
    "collapsed": false
   },
   "outputs": [
    {
     "data": {
      "text/plain": [
       "'C:\\\\Users\\\\DS\\\\Documents\\\\SAJIN'"
      ]
     },
     "execution_count": 3,
     "metadata": {},
     "output_type": "execute_result"
    }
   ],
   "source": [
    "import os\n",
    "current_path = os.getcwd()\n",
    "current_path"
   ]
  },
  {
   "cell_type": "code",
   "execution_count": 29,
   "metadata": {
    "collapsed": true
   },
   "outputs": [],
   "source": []
  },
  {
   "cell_type": "code",
   "execution_count": null,
   "metadata": {
    "collapsed": true
   },
   "outputs": [],
   "source": []
  }
 ],
 "metadata": {
  "kernelspec": {
   "display_name": "Python 3",
   "language": "python",
   "name": "python3"
  },
  "language_info": {
   "codemirror_mode": {
    "name": "ipython",
    "version": 3
   },
   "file_extension": ".py",
   "mimetype": "text/x-python",
   "name": "python",
   "nbconvert_exporter": "python",
   "pygments_lexer": "ipython3",
   "version": "3.6.0"
  }
 },
 "nbformat": 4,
 "nbformat_minor": 2
}
